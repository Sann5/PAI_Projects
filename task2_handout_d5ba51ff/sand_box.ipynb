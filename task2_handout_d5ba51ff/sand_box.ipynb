{
 "cells": [
  {
   "cell_type": "markdown",
   "metadata": {},
   "source": [
    "### Playin around with the distributions"
   ]
  },
  {
   "cell_type": "code",
   "execution_count": 1,
   "metadata": {},
   "outputs": [],
   "source": [
    "# Import libs\n",
    "import numpy as np\n",
    "import torch\n",
    "import torch.optim\n",
    "from torch import nn\n",
    "from torch.nn import functional as F\n",
    "from tqdm import trange\n",
    "from util import ece, ParameterDistribution"
   ]
  },
  {
   "cell_type": "code",
   "execution_count": 198,
   "metadata": {},
   "outputs": [],
   "source": [
    "out_features = 100\n",
    "in_features = 100\n",
    "\n",
    "class MultivariateDiagonalGaussian(ParameterDistribution):\n",
    "    \"\"\"\n",
    "    Multivariate diagonal Gaussian distribution,\n",
    "    i.e., assumes all elements to be independent Gaussians\n",
    "    but with different means and standard deviations.\n",
    "    This parameterizes the standard deviation via a parameter rho as\n",
    "    sigma = softplus(rho).\n",
    "    \"\"\"\n",
    "\n",
    "    def __init__(self, mu: torch.Tensor, rho: torch.Tensor):\n",
    "        super(MultivariateDiagonalGaussian, self).__init__()  # always make sure to include the super-class init call!\n",
    "        assert mu.size() == rho.size()\n",
    "        self.mu = mu\n",
    "        self.rho = rho\n",
    "\n",
    "    def log_likelihood(self, values: torch.Tensor) -> torch.Tensor:\n",
    "        # TODO: Implement this\n",
    "        return torch.distributions.Normal(self.mu.data, torch.log(1 + torch.exp(self.rho))).log_prob(values).sum()\n",
    "    \n",
    "    def sample(self) -> torch.Tensor:\n",
    "        # TODO: Implement this\n",
    "        return torch.normal(self.mu.data, torch.log(1 + torch.exp(self.rho)))\n",
    "        #raise NotImplementedError()"
   ]
  },
  {
   "cell_type": "code",
   "execution_count": 207,
   "metadata": {},
   "outputs": [],
   "source": [
    "class UnivariateGaussian(ParameterDistribution):\n",
    "    \"\"\"\n",
    "    Univariate Gaussian distribution.\n",
    "    For multivariate data, this assumes all elements to be i.i.d.\n",
    "    \"\"\"\n",
    "\n",
    "    def __init__(self, mu: torch.Tensor, sigma: torch.Tensor):\n",
    "        super(UnivariateGaussian, self).__init__()  # always make sure to include the super-class init call!\n",
    "        assert mu.size() == () and sigma.size() == ()\n",
    "        assert sigma > 0\n",
    "        self.mu = mu\n",
    "        self.sigma = sigma\n",
    "        \n",
    "\n",
    "    def log_likelihood(self, values: torch.Tensor) -> torch.Tensor:\n",
    "        # TODO: Implement this\n",
    "        return torch.distributions.Normal(self.mu, self.sigma).log_prob(values).sum()\n",
    "\n",
    "    def sample(self) -> torch.Tensor:\n",
    "        # TODO: Implement this\n",
    "        return torch.normal(self.mu, self.sigma)\n",
    "        #raise NotImplementedError()"
   ]
  },
  {
   "cell_type": "code",
   "execution_count": 218,
   "metadata": {},
   "outputs": [],
   "source": [
    "class BayesianLayer(nn.Module):\n",
    "    \"\"\"\n",
    "    Module implementing a single Bayesian feedforward layer.\n",
    "    It maintains a prior and variational posterior for the weights (and biases)\n",
    "    and uses sampling to approximate the gradients via Bayes by backprop.\n",
    "    \"\"\"\n",
    "    def __init__(self, in_features: int, out_features: int, bias: bool = True):\n",
    "        \"\"\"\n",
    "        Create a BayesianLayer.\n",
    "\n",
    "        :param in_features: Number of input features\n",
    "        :param out_features: Number of output features\n",
    "        :param bias: If true, use a bias term (i.e., affine instead of linear transformation)\n",
    "        \"\"\"\n",
    "        super().__init__()\n",
    "        self.in_features = in_features\n",
    "        self.out_features = out_features\n",
    "        self.use_bias = bias\n",
    "\n",
    "        # TODO: Create a suitable prior for weights and biases as an instance of ParameterDistribution.\n",
    "        #  You can use the same prior for both weights and biases, but are free to experiment with different priors.\n",
    "        #  You can create constants using torch.tensor(...).\n",
    "        #  Do NOT use torch.Parameter(...) here since the prior should not be optimized!\n",
    "        #  Example: self.prior = MyPrior(torch.tensor(0.0), torch.tensor(1.0))\n",
    "        self.prior = UnivariateGaussian(torch.tensor(0.0), torch.tensor(1.0))\n",
    "        assert isinstance(self.prior, ParameterDistribution)\n",
    "        assert not any(True for _ in self.prior.parameters()), 'Prior cannot have parameters'\n",
    "\n",
    "        # TODO: Create a suitable variational posterior for weights as an instance of ParameterDistribution.\n",
    "        #  You need to create separate ParameterDistribution instances for weights and biases,\n",
    "        #  but can use the same family of distributions if you want.\n",
    "        #  IMPORTANT: You need to create a nn.Parameter(...) for each parameter\n",
    "        #  and add those parameters as an attribute in the ParameterDistribution instances.\n",
    "        #  If you forget to do so, PyTorch will not be able to optimize your variational posterior.\n",
    "        #  Example: self.weights_var_posterior = MyPosterior(\n",
    "        #      torch.nn.Parameter(torch.zeros((out_features, in_features))),\n",
    "        #      torch.nn.Parameter(torch.ones((out_features, in_features)))\n",
    "        #  )\n",
    "        self.weights_var_posterior = MultivariateDiagonalGaussian(\n",
    "            torch.nn.Parameter(torch.zeros((out_features, in_features))),\n",
    "            torch.nn.Parameter(torch.ones((out_features, in_features)))\n",
    "        )\n",
    "\n",
    "        assert isinstance(self.weights_var_posterior, ParameterDistribution)\n",
    "        assert any(True for _ in self.weights_var_posterior.parameters()), 'Weight posterior must have parameters'\n",
    "\n",
    "        if self.use_bias:\n",
    "            # TODO: As for the weights, create the bias variational posterior instance here.\n",
    "            #  Make sure to follow the same rules as for the weight variational posterior.\n",
    "            self.bias_var_posterior = MultivariateDiagonalGaussian(\n",
    "                torch.nn.Parameter(torch.zeros((out_features, in_features))),\n",
    "                torch.nn.Parameter(torch.ones((out_features, in_features)))\n",
    "            )\n",
    "            assert isinstance(self.bias_var_posterior, ParameterDistribution)\n",
    "            assert any(True for _ in self.bias_var_posterior.parameters()), 'Bias posterior must have parameters'\n",
    "        else:\n",
    "            self.bias_var_posterior = None\n",
    "\n",
    "    def forward(self, inputs: torch.Tensor):\n",
    "        \"\"\"\n",
    "        Perform one forward pass through this layer.\n",
    "        If you need to sample weights from the variational posterior, you can do it here during the forward pass.\n",
    "        Just make sure that you use the same weights to approximate all quantities\n",
    "        present in a single Bayes by backprop sampling step.\n",
    "\n",
    "        :param inputs: Flattened input images as a (batch_size, in_features) float tensor\n",
    "        :return: 3-tuple containing\n",
    "            i) transformed features using stochastic weights from the variational posterior,\n",
    "            ii) sample of the log-prior probability, and\n",
    "            iii) sample of the log-variational-posterior probability\n",
    "        \"\"\"\n",
    "        # TODO: Perform a forward pass as described in this method's docstring.\n",
    "        #  Make sure to check whether `self.use_bias` is True,\n",
    "        #  and if yes, include the bias as well.\n",
    "        weights = self.weights_var_posterior.sample()\n",
    "        \n",
    "        if self.use_bias:\n",
    "            bias = self.bias_var_posterior.sample()\n",
    "            log_variational_posterior = self.weights_var_posterior.log_likelihood(weights) + self.bias_var_posterior.log_likelihood(bias)\n",
    "            log_prior = self.prior.log_likelihood(weights) + self.prior.log_likelihood(bias)\n",
    "        \n",
    "        else:\n",
    "            bias = None\n",
    "            log_variational_posterior = self.weights_var_posterior.log_likelihood(weights)\n",
    "            log_prior = self.prior.log_likelihood(weights)\n",
    "        \n",
    "        \n",
    "        return F.linear(inputs, weights, bias), log_prior, log_variational_posterior"
   ]
  },
  {
   "cell_type": "code",
   "execution_count": 224,
   "metadata": {},
   "outputs": [
    {
     "data": {
      "text/plain": [
       "tensor(-33774.2188, grad_fn=<AddBackward0>)"
      ]
     },
     "execution_count": 224,
     "metadata": {},
     "output_type": "execute_result"
    }
   ],
   "source": [
    "m = BayesianLayer(in_features, out_features)\n",
    "input = torch.randn(100, 100)\n",
    "a,b,c = m(input)\n",
    "c"
   ]
  },
  {
   "cell_type": "code",
   "execution_count": 223,
   "metadata": {},
   "outputs": [
    {
     "data": {
      "text/plain": [
       "tensor(-33799.7188, grad_fn=<AddBackward0>)"
      ]
     },
     "execution_count": 223,
     "metadata": {},
     "output_type": "execute_result"
    }
   ],
   "source": [
    "c"
   ]
  },
  {
   "cell_type": "code",
   "execution_count": null,
   "metadata": {},
   "outputs": [],
   "source": []
  }
 ],
 "metadata": {
  "kernelspec": {
   "display_name": "Python 3",
   "language": "python",
   "name": "python3"
  },
  "language_info": {
   "codemirror_mode": {
    "name": "ipython",
    "version": 3
   },
   "file_extension": ".py",
   "mimetype": "text/x-python",
   "name": "python",
   "nbconvert_exporter": "python",
   "pygments_lexer": "ipython3",
   "version": "3.8.3"
  }
 },
 "nbformat": 4,
 "nbformat_minor": 4
}
