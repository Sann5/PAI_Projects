{
 "cells": [
  {
   "cell_type": "markdown",
   "metadata": {},
   "source": [
    "# Model Selection"
   ]
  },
  {
   "cell_type": "markdown",
   "metadata": {},
   "source": [
    "### Import libreries"
   ]
  },
  {
   "cell_type": "code",
   "execution_count": 1,
   "metadata": {},
   "outputs": [],
   "source": [
    "import os\n",
    "import typing\n",
    "\n",
    "from sklearn.gaussian_process.kernels import *\n",
    "from sklearn.kernel_approximation import Nystroem\n",
    "from sklearn.gaussian_process import GaussianProcessRegressor\n",
    "from scipy.interpolate import griddata\n",
    "from scipy.stats import norm\n",
    "import numpy as np\n",
    "import pandas as pd\n",
    "import time"
   ]
  },
  {
   "cell_type": "markdown",
   "metadata": {},
   "source": [
    "### Read data"
   ]
  },
  {
   "cell_type": "code",
   "execution_count": 2,
   "metadata": {},
   "outputs": [],
   "source": [
    "X = pd.read_csv(\"./train_x.csv\").to_numpy()\n",
    "y = pd.read_csv(\"./train_y.csv\").to_numpy()"
   ]
  },
  {
   "cell_type": "code",
   "execution_count": 4,
   "metadata": {},
   "outputs": [],
   "source": [
    "grid_x, grid_y = np.mgrid[0:0.9988:50j, 0:0.9988:50j]"
   ]
  },
  {
   "cell_type": "code",
   "execution_count": 5,
   "metadata": {},
   "outputs": [],
   "source": [
    "grid_z0 = griddata(X, y, (grid_x, grid_y), method='nearest')\n",
    "interpolated_data_y = pd.DataFrame(grid_z0.ravel(), columns = ['pm25'])"
   ]
  },
  {
   "cell_type": "code",
   "execution_count": 6,
   "metadata": {},
   "outputs": [
    {
     "data": {
      "text/plain": [
       "array([ 2.67844831,  2.21802735,  4.97206948, ..., 12.04067001,\n",
       "       11.66635693,  7.68859294])"
      ]
     },
     "execution_count": 6,
     "metadata": {},
     "output_type": "execute_result"
    }
   ],
   "source": [
    "grid_z0.ravel()"
   ]
  },
  {
   "cell_type": "code",
   "execution_count": 7,
   "metadata": {},
   "outputs": [],
   "source": [
    "coor = np.array(list(zip(grid_x.ravel(), grid_y.ravel())))"
   ]
  },
  {
   "cell_type": "code",
   "execution_count": 8,
   "metadata": {},
   "outputs": [],
   "source": [
    "interpolated_data_X = pd.DataFrame(coor, columns = ['lon', 'lat'])"
   ]
  },
  {
   "cell_type": "code",
   "execution_count": null,
   "metadata": {},
   "outputs": [],
   "source": [
    "interpolated_data_X.to_csv('interpolated_X_2500.csv', index=False)\n",
    "interpolated_data_y.to_csv('interpolated_y_2500.csv', index=False)"
   ]
  },
  {
   "cell_type": "markdown",
   "metadata": {},
   "source": [
    "### Toy example for RBF"
   ]
  },
  {
   "cell_type": "code",
   "execution_count": null,
   "metadata": {},
   "outputs": [],
   "source": [
    "kernel = RBF()\n",
    "start = time.time()\n",
    "gpc = GaussianProcessRegressor(kernel=kernel, \n",
    "                               random_state=0, \n",
    "                               n_restarts_optimizer=100).fit(coor, interpolated_data_y.to_numpy())\n",
    "print(gpc.kernel_)\n",
    "print(gpc.log_marginal_likelihood()"
   ]
  },
  {
   "cell_type": "code",
   "execution_count": null,
   "metadata": {
    "scrolled": true
   },
   "outputs": [],
   "source": [
    "kernel = RBF()\n",
    "gpc = GaussianProcessRegressor(kernel=kernel, \n",
    "                               random_state=0, \n",
    "                               n_restarts_optimizer=100).fit(coor, interpolated_data_y.to_numpy())\n",
    "print(gpc.kernel_)\n",
    "print(gpc.log_marginal_likelihood())\n",
    "\n",
    "kernel = Matern(nu=0.5)\n",
    "gpc = GaussianProcessRegressor(kernel=kernel, \n",
    "                               random_state=0, \n",
    "                               n_restarts_optimizer=100).fit(coor, interpolated_data_y.to_numpy())\n",
    "print(gpc.kernel_)\n",
    "print(gpc.log_marginal_likelihood())\n",
    "      \n",
    "kernel = Matern(nu=1.5)\n",
    "gpc = GaussianProcessRegressor(kernel=kernel, \n",
    "                               random_state=0, \n",
    "                               n_restarts_optimizer=100).fit(coor, interpolated_data_y.to_numpy())\n",
    "print(gpc.kernel_)\n",
    "print(gpc.log_marginal_likelihood())\n",
    "\n",
    "kernel = Matern(nu=2.5)\n",
    "gpc = GaussianProcessRegressor(kernel=kernel, \n",
    "                               random_state=0, \n",
    "                               n_restarts_optimizer=100).fit(coor, interpolated_data_y.to_numpy())\n",
    "print(gpc.kernel_)\n",
    "print(gpc.log_marginal_likelihood())\n",
    "\n",
    "kernel = RationalQuadratic()\n",
    "gpc = GaussianProcessRegressor(kernel=kernel, \n",
    "                               random_state=0, \n",
    "                               n_restarts_optimizer=100).fit(coor, interpolated_data_y.to_numpy())\n",
    "print(gpc.kernel_)\n",
    "print(gpc.log_marginal_likelihood())\n",
    "\n",
    "kernel = ExpSineSquared()\n",
    "gpc = GaussianProcessRegressor(kernel=kernel, \n",
    "                               random_state=0, \n",
    "                               n_restarts_optimizer=100).fit(coor, interpolated_data_y.to_numpy())\n",
    "print(gpc.kernel_)\n",
    "print(gpc.log_marginal_likelihood())\n",
    "\n",
    "kernel = DotProduct() + WhiteKernel()\n",
    "gpc = GaussianProcessRegressor(kernel=kernel, \n",
    "                               random_state=0, \n",
    "                               n_restarts_optimizer=100).fit(coor, interpolated_data_y.to_numpy())\n",
    "print(gpc.kernel_)\n",
    "print(gpc.log_marginal_likelihood())"
   ]
  },
  {
   "cell_type": "code",
   "execution_count": null,
   "metadata": {},
   "outputs": [],
   "source": [
    "kernel = DotProduct(sigma_0=18.2) + WhiteKernel(noise_level=223)\n",
    "gpc = GaussianProcessRegressor(kernel=kernel, \n",
    "                               random_state=0).fit(coor, grid_z0)\n",
    "print(gpc.kernel_)\n",
    "print(gpc.log_marginal_likelihood())"
   ]
  },
  {
   "cell_type": "code",
   "execution_count": 9,
   "metadata": {},
   "outputs": [
    {
     "name": "stdout",
     "output_type": "stream",
     "text": [
      "Matern(length_scale=0.0297, nu=1.5)\n",
      "-174273.92580377776\n"
     ]
    }
   ],
   "source": [
    "kernel = Matern(length_scale=0.0253, nu=1.5)\n",
    "gpc = GaussianProcessRegressor(kernel=kernel, \n",
    "                               random_state=0, \n",
    "                               n_restarts_optimizer=100,\n",
    "                               alpha = 0.1).fit(coor, interpolated_data_y.to_numpy())\n",
    "print(gpc.kernel_)\n",
    "print(gpc.log_marginal_likelihood())"
   ]
  },
  {
   "cell_type": "code",
   "execution_count": null,
   "metadata": {},
   "outputs": [],
   "source": [
    "predictions = gpc.predict(X, return_std=True)"
   ]
  },
  {
   "cell_type": "code",
   "execution_count": null,
   "metadata": {},
   "outputs": [],
   "source": [
    "d = {'mean': predictions[0].ravel(), 'sd': np.sqrt(predictions[1].ravel())}"
   ]
  },
  {
   "cell_type": "code",
   "execution_count": null,
   "metadata": {},
   "outputs": [],
   "source": [
    "pred_df = pd.DataFrame(d)"
   ]
  },
  {
   "cell_type": "code",
   "execution_count": null,
   "metadata": {},
   "outputs": [],
   "source": [
    "pred_df['action'] = np.where(pred_df['mean'] >= 35.5,\n",
    "                             pred_df['mean'] + pred_df['sd'] * norm.ppf(20/25),\n",
    "                             pred_df['mean'] + pred_df['sd'] * norm.ppf(1/6))"
   ]
  },
  {
   "cell_type": "code",
   "execution_count": 10,
   "metadata": {},
   "outputs": [
    {
     "data": {
      "text/plain": [
       "0.8416212335729143"
      ]
     },
     "execution_count": 10,
     "metadata": {},
     "output_type": "execute_result"
    }
   ],
   "source": [
    "norm.ppf(20/25)"
   ]
  },
  {
   "cell_type": "markdown",
   "metadata": {},
   "source": [
    "### Nyostre aprox\n"
   ]
  },
  {
   "cell_type": "code",
   "execution_count": 3,
   "metadata": {},
   "outputs": [],
   "source": [
    "feature_map_nystroem = Nystroem(kernel = Matern(length_scale=0.0253, nu=1.5),\n",
    "                                random_state=1,\n",
    "                                n_components=300)\n",
    "data_transformed = feature_map_nystroem.fit_transform(X, y)"
   ]
  },
  {
   "cell_type": "code",
   "execution_count": 4,
   "metadata": {},
   "outputs": [
    {
     "data": {
      "text/plain": [
       "(15189, 300)"
      ]
     },
     "execution_count": 4,
     "metadata": {},
     "output_type": "execute_result"
    }
   ],
   "source": [
    "data_transformed.shape"
   ]
  },
  {
   "cell_type": "code",
   "execution_count": null,
   "metadata": {},
   "outputs": [],
   "source": [
    "kernel = Matern(length_scale=0.0253, nu=1.5)\n",
    "gpc = GaussianProcessRegressor(kernel=kernel, \n",
    "                               random_state=0, \n",
    "                               n_restarts_optimizer=10).fit(data_transformed, y)"
   ]
  },
  {
   "cell_type": "code",
   "execution_count": null,
   "metadata": {},
   "outputs": [],
   "source": [
    "print(gpc.kernel_)\n",
    "print(gpc.log_marginal_likelihood())"
   ]
  }
 ],
 "metadata": {
  "kernelspec": {
   "display_name": "Python 3",
   "language": "python",
   "name": "python3"
  },
  "language_info": {
   "codemirror_mode": {
    "name": "ipython",
    "version": 3
   },
   "file_extension": ".py",
   "mimetype": "text/x-python",
   "name": "python",
   "nbconvert_exporter": "python",
   "pygments_lexer": "ipython3",
   "version": "3.8.3"
  }
 },
 "nbformat": 4,
 "nbformat_minor": 4
}
