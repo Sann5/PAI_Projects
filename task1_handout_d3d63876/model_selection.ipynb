{
 "cells": [
  {
   "cell_type": "markdown",
   "metadata": {},
   "source": [
    "# Model Selection"
   ]
  },
  {
   "cell_type": "markdown",
   "metadata": {},
   "source": [
    "### Import libreries"
   ]
  },
  {
   "cell_type": "code",
   "execution_count": 9,
   "metadata": {},
   "outputs": [],
   "source": [
    "import os\n",
    "import typing\n",
    "\n",
    "from sklearn.gaussian_process.kernels import *\n",
    "from sklearn.kernel_approximation import Nystroem\n",
    "from sklearn.gaussian_process import GaussianProcessRegressor\n",
    "from scipy.interpolate import griddata\n",
    "from scipy.stats import norm\n",
    "import numpy as np\n",
    "import pandas as pd\n",
    "import time"
   ]
  },
  {
   "cell_type": "markdown",
   "metadata": {},
   "source": [
    "### Read data"
   ]
  },
  {
   "cell_type": "code",
   "execution_count": 3,
   "metadata": {},
   "outputs": [],
   "source": [
    "X = pd.read_csv(\"./train_x.csv\").to_numpy()\n",
    "y = pd.read_csv(\"./train_y.csv\").to_numpy()"
   ]
  },
  {
   "cell_type": "code",
   "execution_count": 4,
   "metadata": {},
   "outputs": [],
   "source": [
    "grid_x, grid_y = np.mgrid[0:0.9988:50j, 0:0.9988:50j]"
   ]
  },
  {
   "cell_type": "code",
   "execution_count": 5,
   "metadata": {},
   "outputs": [],
   "source": [
    "grid_z0 = griddata(X, y, (grid_x, grid_y), method='nearest')\n",
    "interpolated_data_y = pd.DataFrame(grid_z0.ravel(), columns = ['pm25'])"
   ]
  },
  {
   "cell_type": "code",
   "execution_count": 6,
   "metadata": {},
   "outputs": [
    {
     "data": {
      "text/plain": [
       "array([ 2.67844831,  2.21802735,  4.97206948, ..., 12.04067001,\n",
       "       11.66635693,  7.68859294])"
      ]
     },
     "execution_count": 6,
     "metadata": {},
     "output_type": "execute_result"
    }
   ],
   "source": [
    "grid_z0.ravel()"
   ]
  },
  {
   "cell_type": "code",
   "execution_count": 7,
   "metadata": {},
   "outputs": [],
   "source": [
    "coor = np.array(list(zip(grid_x.ravel(), grid_y.ravel())))"
   ]
  },
  {
   "cell_type": "code",
   "execution_count": 12,
   "metadata": {},
   "outputs": [],
   "source": [
    "interpolated_data_X = pd.DataFrame(coor, columns = ['lon', 'lat'])"
   ]
  },
  {
   "cell_type": "code",
   "execution_count": 13,
   "metadata": {},
   "outputs": [],
   "source": [
    "interpolated_data_X.to_csv('interpolated_X_2500.csv', index=False)\n",
    "interpolated_data_y.to_csv('interpolated_y_2500.csv', index=False)"
   ]
  },
  {
   "cell_type": "markdown",
   "metadata": {},
   "source": [
    "### Toy example for RBF"
   ]
  },
  {
   "cell_type": "code",
   "execution_count": 14,
   "metadata": {},
   "outputs": [
    {
     "name": "stdout",
     "output_type": "stream",
     "text": [
      "75.33604407310486\n"
     ]
    }
   ],
   "source": [
    "kernel = RBF()\n",
    "start = time.time()\n",
    "gpc = GaussianProcessRegressor(kernel=kernel, \n",
    "                               random_state=0, \n",
    "                               n_restarts_optimizer=100).fit(coor, interpolated_data_y.to_numpy())\n",
    "print(gpc.kernel_)\n",
    "print(gpc.log_marginal_likelihood()"
   ]
  },
  {
   "cell_type": "code",
   "execution_count": 25,
   "metadata": {
    "scrolled": true
   },
   "outputs": [
    {
     "name": "stdout",
     "output_type": "stream",
     "text": [
      "RBF(length_scale=0.0168)\n",
      "-305565.38943646516\n"
     ]
    },
    {
     "name": "stderr",
     "output_type": "stream",
     "text": [
      "/Users/santiago/opt/anaconda3/lib/python3.8/site-packages/sklearn/gaussian_process/kernels.py:1623: RuntimeWarning: invalid value encountered in true_divide\n",
      "  K_gradient = K[..., np.newaxis] * D \\\n"
     ]
    },
    {
     "name": "stdout",
     "output_type": "stream",
     "text": [
      "Matern(length_scale=0.036, nu=0.5)\n",
      "-165616.9917406278\n",
      "Matern(length_scale=0.0253, nu=1.5)\n",
      "-205393.44635639447\n",
      "Matern(length_scale=0.0223, nu=2.5)\n",
      "-228279.36014855502\n",
      "RationalQuadratic(alpha=0.522, length_scale=0.0106)\n",
      "-131886.14096834682\n",
      "ExpSineSquared(length_scale=0.000532, periodicity=198)\n",
      "-305565.3582388254\n",
      "DotProduct(sigma_0=18.2) + WhiteKernel(noise_level=223)\n",
      "-10346.768229266692\n"
     ]
    }
   ],
   "source": [
    "kernel = RBF()\n",
    "gpc = GaussianProcessRegressor(kernel=kernel, \n",
    "                               random_state=0, \n",
    "                               n_restarts_optimizer=100).fit(coor, interpolated_data_y.to_numpy())\n",
    "print(gpc.kernel_)\n",
    "print(gpc.log_marginal_likelihood())\n",
    "\n",
    "kernel = Matern(nu=0.5)\n",
    "gpc = GaussianProcessRegressor(kernel=kernel, \n",
    "                               random_state=0, \n",
    "                               n_restarts_optimizer=100).fit(coor, interpolated_data_y.to_numpy())\n",
    "print(gpc.kernel_)\n",
    "print(gpc.log_marginal_likelihood())\n",
    "      \n",
    "kernel = Matern(nu=1.5)\n",
    "gpc = GaussianProcessRegressor(kernel=kernel, \n",
    "                               random_state=0, \n",
    "                               n_restarts_optimizer=100).fit(coor, interpolated_data_y.to_numpy())\n",
    "print(gpc.kernel_)\n",
    "print(gpc.log_marginal_likelihood())\n",
    "\n",
    "kernel = Matern(nu=2.5)\n",
    "gpc = GaussianProcessRegressor(kernel=kernel, \n",
    "                               random_state=0, \n",
    "                               n_restarts_optimizer=100).fit(coor, interpolated_data_y.to_numpy())\n",
    "print(gpc.kernel_)\n",
    "print(gpc.log_marginal_likelihood())\n",
    "\n",
    "kernel = RationalQuadratic()\n",
    "gpc = GaussianProcessRegressor(kernel=kernel, \n",
    "                               random_state=0, \n",
    "                               n_restarts_optimizer=100).fit(coor, interpolated_data_y.to_numpy())\n",
    "print(gpc.kernel_)\n",
    "print(gpc.log_marginal_likelihood())\n",
    "\n",
    "kernel = ExpSineSquared()\n",
    "gpc = GaussianProcessRegressor(kernel=kernel, \n",
    "                               random_state=0, \n",
    "                               n_restarts_optimizer=100).fit(coor, interpolated_data_y.to_numpy())\n",
    "print(gpc.kernel_)\n",
    "print(gpc.log_marginal_likelihood())\n",
    "\n",
    "kernel = DotProduct() + WhiteKernel()\n",
    "gpc = GaussianProcessRegressor(kernel=kernel, \n",
    "                               random_state=0, \n",
    "                               n_restarts_optimizer=100).fit(coor, interpolated_data_y.to_numpy())\n",
    "print(gpc.kernel_)\n",
    "print(gpc.log_marginal_likelihood())"
   ]
  },
  {
   "cell_type": "code",
   "execution_count": 27,
   "metadata": {},
   "outputs": [
    {
     "name": "stdout",
     "output_type": "stream",
     "text": [
      "DotProduct(sigma_0=18.3) + WhiteKernel(noise_level=272)\n",
      "-64436.42911961255\n"
     ]
    }
   ],
   "source": [
    "kernel = DotProduct(sigma_0=18.2) + WhiteKernel(noise_level=223)\n",
    "gpc = GaussianProcessRegressor(kernel=kernel, \n",
    "                               random_state=0).fit(coor, grid_z0)\n",
    "print(gpc.kernel_)\n",
    "print(gpc.log_marginal_likelihood())"
   ]
  },
  {
   "cell_type": "code",
   "execution_count": 28,
   "metadata": {},
   "outputs": [],
   "source": [
    "kernel = Matern(length_scale=0.0253, nu=1.5)\n",
    "gpc = GaussianProcessRegressor(kernel=kernel, \n",
    "                               random_state=0).fit(coor, interpolated_data_y.to_numpy())"
   ]
  },
  {
   "cell_type": "code",
   "execution_count": 29,
   "metadata": {},
   "outputs": [],
   "source": [
    "predictions = gpc.predict(X, return_std=True)"
   ]
  },
  {
   "cell_type": "code",
   "execution_count": 41,
   "metadata": {},
   "outputs": [],
   "source": [
    "d = {'mean': predictions[0].ravel(), 'sd': np.sqrt(predictions[1].ravel())}"
   ]
  },
  {
   "cell_type": "code",
   "execution_count": 42,
   "metadata": {},
   "outputs": [],
   "source": [
    "pred_df = pd.DataFrame(d)"
   ]
  },
  {
   "cell_type": "code",
   "execution_count": 43,
   "metadata": {},
   "outputs": [],
   "source": [
    "pred_df['action'] = np.where(pred_df['mean'] >= 35.5,\n",
    "                             pred_df['mean'] + pred_df['sd'] * norm.ppf(20/25),\n",
    "                             pred_df['mean'] + pred_df['sd'] * norm.ppf(1/6))"
   ]
  },
  {
   "cell_type": "code",
   "execution_count": 44,
   "metadata": {},
   "outputs": [
    {
     "data": {
      "text/html": [
       "<div>\n",
       "<style scoped>\n",
       "    .dataframe tbody tr th:only-of-type {\n",
       "        vertical-align: middle;\n",
       "    }\n",
       "\n",
       "    .dataframe tbody tr th {\n",
       "        vertical-align: top;\n",
       "    }\n",
       "\n",
       "    .dataframe thead th {\n",
       "        text-align: right;\n",
       "    }\n",
       "</style>\n",
       "<table border=\"1\" class=\"dataframe\">\n",
       "  <thead>\n",
       "    <tr style=\"text-align: right;\">\n",
       "      <th></th>\n",
       "      <th>mean</th>\n",
       "      <th>sd</th>\n",
       "      <th>action</th>\n",
       "    </tr>\n",
       "  </thead>\n",
       "  <tbody>\n",
       "    <tr>\n",
       "      <th>0</th>\n",
       "      <td>34.430858</td>\n",
       "      <td>0.522925</td>\n",
       "      <td>33.924969</td>\n",
       "    </tr>\n",
       "    <tr>\n",
       "      <th>1</th>\n",
       "      <td>57.268516</td>\n",
       "      <td>0.447328</td>\n",
       "      <td>57.644996</td>\n",
       "    </tr>\n",
       "    <tr>\n",
       "      <th>2</th>\n",
       "      <td>11.061016</td>\n",
       "      <td>0.590040</td>\n",
       "      <td>10.490198</td>\n",
       "    </tr>\n",
       "    <tr>\n",
       "      <th>3</th>\n",
       "      <td>52.904142</td>\n",
       "      <td>0.526108</td>\n",
       "      <td>53.346925</td>\n",
       "    </tr>\n",
       "    <tr>\n",
       "      <th>4</th>\n",
       "      <td>12.442281</td>\n",
       "      <td>0.501976</td>\n",
       "      <td>11.956658</td>\n",
       "    </tr>\n",
       "    <tr>\n",
       "      <th>...</th>\n",
       "      <td>...</td>\n",
       "      <td>...</td>\n",
       "      <td>...</td>\n",
       "    </tr>\n",
       "    <tr>\n",
       "      <th>15184</th>\n",
       "      <td>29.910568</td>\n",
       "      <td>0.580684</td>\n",
       "      <td>29.348802</td>\n",
       "    </tr>\n",
       "    <tr>\n",
       "      <th>15185</th>\n",
       "      <td>27.877195</td>\n",
       "      <td>0.567593</td>\n",
       "      <td>27.328093</td>\n",
       "    </tr>\n",
       "    <tr>\n",
       "      <th>15186</th>\n",
       "      <td>37.410700</td>\n",
       "      <td>0.593769</td>\n",
       "      <td>37.910429</td>\n",
       "    </tr>\n",
       "    <tr>\n",
       "      <th>15187</th>\n",
       "      <td>19.579256</td>\n",
       "      <td>0.589772</td>\n",
       "      <td>19.008697</td>\n",
       "    </tr>\n",
       "    <tr>\n",
       "      <th>15188</th>\n",
       "      <td>38.654882</td>\n",
       "      <td>0.603291</td>\n",
       "      <td>39.162625</td>\n",
       "    </tr>\n",
       "  </tbody>\n",
       "</table>\n",
       "<p>15189 rows × 3 columns</p>\n",
       "</div>"
      ],
      "text/plain": [
       "            mean        sd     action\n",
       "0      34.430858  0.522925  33.924969\n",
       "1      57.268516  0.447328  57.644996\n",
       "2      11.061016  0.590040  10.490198\n",
       "3      52.904142  0.526108  53.346925\n",
       "4      12.442281  0.501976  11.956658\n",
       "...          ...       ...        ...\n",
       "15184  29.910568  0.580684  29.348802\n",
       "15185  27.877195  0.567593  27.328093\n",
       "15186  37.410700  0.593769  37.910429\n",
       "15187  19.579256  0.589772  19.008697\n",
       "15188  38.654882  0.603291  39.162625\n",
       "\n",
       "[15189 rows x 3 columns]"
      ]
     },
     "execution_count": 44,
     "metadata": {},
     "output_type": "execute_result"
    }
   ],
   "source": [
    "pred_df"
   ]
  },
  {
   "cell_type": "code",
   "execution_count": 45,
   "metadata": {},
   "outputs": [
    {
     "data": {
      "text/plain": [
       "array([33.9249686 , 57.64499608, 10.49019841, ..., 37.91042854,\n",
       "       19.00869742, 39.16262533])"
      ]
     },
     "execution_count": 45,
     "metadata": {},
     "output_type": "execute_result"
    }
   ],
   "source": [
    "pred_df['action'].to_numpy()"
   ]
  }
 ],
 "metadata": {
  "kernelspec": {
   "display_name": "Python 3",
   "language": "python",
   "name": "python3"
  },
  "language_info": {
   "codemirror_mode": {
    "name": "ipython",
    "version": 3
   },
   "file_extension": ".py",
   "mimetype": "text/x-python",
   "name": "python",
   "nbconvert_exporter": "python",
   "pygments_lexer": "ipython3",
   "version": "3.8.3"
  }
 },
 "nbformat": 4,
 "nbformat_minor": 4
}
