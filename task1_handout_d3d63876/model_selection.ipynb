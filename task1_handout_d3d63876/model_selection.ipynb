{
 "cells": [
  {
   "cell_type": "markdown",
   "metadata": {},
   "source": [
    "# Model Selection"
   ]
  },
  {
   "cell_type": "markdown",
   "metadata": {},
   "source": [
    "### Import libreries"
   ]
  },
  {
   "cell_type": "code",
   "execution_count": 1,
   "metadata": {},
   "outputs": [],
   "source": [
    "import os\n",
    "import typing\n",
    "from sklearn.cluster import KMeans\n",
    "from sklearn.gaussian_process.kernels import *\n",
    "from sklearn.kernel_approximation import Nystroem\n",
    "from sklearn.gaussian_process import GaussianProcessRegressor\n",
    "from scipy.interpolate import griddata\n",
    "from scipy.stats import norm\n",
    "import numpy as np\n",
    "import pandas as pd\n",
    "import time"
   ]
  },
  {
   "cell_type": "markdown",
   "metadata": {},
   "source": [
    "### Read data"
   ]
  },
  {
   "cell_type": "code",
   "execution_count": 3,
   "metadata": {},
   "outputs": [],
   "source": [
    "X = pd.read_csv(\"./train_x.csv\").to_numpy()\n",
    "y = pd.read_csv(\"./train_y.csv\").to_numpy()\n",
    "X_y = pd.read_csv(\"./train_x.csv\")\n",
    "X_y['pm25'] = pd.read_csv(\"./train_y.csv\").to_numpy()"
   ]
  },
  {
   "cell_type": "markdown",
   "metadata": {},
   "source": [
    "### Interpolate data to reduced plane"
   ]
  },
  {
   "cell_type": "code",
   "execution_count": 146,
   "metadata": {},
   "outputs": [],
   "source": [
    "grid_x, grid_y = np.mgrid[0:0.9988:75j, 0:0.9988:75j]\n",
    "grid_z0 = griddata(X, y, (grid_x, grid_y), method='nearest')\n",
    "interpolated_data_y = pd.DataFrame(grid_z0.ravel(), columns = ['pm25'])\n",
    "coor = np.array(list(zip(grid_x.ravel(), grid_y.ravel())))"
   ]
  },
  {
   "cell_type": "code",
   "execution_count": 84,
   "metadata": {},
   "outputs": [
    {
     "data": {
      "text/plain": [
       "array([[ 0.8575    ,  0.68625   , 36.20316838],\n",
       "       [ 0.41125   ,  0.675     , 55.94634794],\n",
       "       [ 0.8625    ,  0.90625   , 12.04206554],\n",
       "       ...,\n",
       "       [ 0.135     ,  0.64      , 36.64130863],\n",
       "       [ 0.07125   ,  0.78875   , 18.66263411],\n",
       "       [ 0.31625   ,  0.2125    , 38.37685245]])"
      ]
     },
     "execution_count": 84,
     "metadata": {},
     "output_type": "execute_result"
    }
   ],
   "source": [
    "np.append(X, y, axis=1)"
   ]
  },
  {
   "cell_type": "code",
   "execution_count": 34,
   "metadata": {},
   "outputs": [
    {
     "data": {
      "text/plain": [
       "array([[ 0.        ,  0.        ,  2.67844831],\n",
       "       [ 0.        ,  0.02038367,  2.21802735],\n",
       "       [ 0.        ,  0.04076735,  4.97206948],\n",
       "       ...,\n",
       "       [ 0.9988    ,  0.95803265, 12.04067001],\n",
       "       [ 0.9988    ,  0.97841633, 11.66635693],\n",
       "       [ 0.9988    ,  0.9988    ,  7.68859294]])"
      ]
     },
     "execution_count": 34,
     "metadata": {},
     "output_type": "execute_result"
    }
   ],
   "source": [
    "init_k_means_centrodis = pd.DataFrame(np.array([grid_x.ravel(), grid_y.ravel(), grid_z0.ravel()]).T,\n",
    "                                      columns = ['x', 'y', 'z'])\n",
    "init_k_means_centrodis.to_numpy()"
   ]
  },
  {
   "cell_type": "markdown",
   "metadata": {},
   "source": [
    "### Make K-means data"
   ]
  },
  {
   "cell_type": "code",
   "execution_count": 36,
   "metadata": {
    "scrolled": true
   },
   "outputs": [
    {
     "name": "stderr",
     "output_type": "stream",
     "text": [
      "<ipython-input-36-2b162c317247>:1: RuntimeWarning: Explicit initial center position passed: performing only one init in k-means instead of n_init=10\n",
      "  kmeans = KMeans(n_clusters=2500,\n"
     ]
    },
    {
     "data": {
      "text/plain": [
       "array([[1.18750000e-02, 4.37500000e-03, 2.67990937e+00],\n",
       "       [3.75000000e-03, 1.00000000e-02, 2.21802735e+00],\n",
       "       [3.72500000e-02, 6.27500000e-02, 4.99032336e+00],\n",
       "       ...,\n",
       "       [9.83333333e-01, 9.73333333e-01, 1.20621698e+01],\n",
       "       [9.86250000e-01, 9.73750000e-01, 1.16663569e+01],\n",
       "       [9.86250000e-01, 9.90000000e-01, 7.68859294e+00]])"
      ]
     },
     "execution_count": 36,
     "metadata": {},
     "output_type": "execute_result"
    }
   ],
   "source": [
    "kmeans = KMeans(n_clusters=2500,\n",
    "                init=init_k_means_centrodis.to_numpy(),\n",
    "                random_state=0).fit(X_y)\n",
    "kmeans.cluster_centers_"
   ]
  },
  {
   "cell_type": "markdown",
   "metadata": {},
   "source": [
    "### Tune on kmeans data"
   ]
  },
  {
   "cell_type": "code",
   "execution_count": null,
   "metadata": {},
   "outputs": [],
   "source": [
    "gpc = GaussianProcessRegressor(kernel=Matern(nu=1.5), \n",
    "                               random_state=0,\n",
    "                               n_restarts_optimizer=100,\n",
    "                               alpha = 0.1).fit(coor, interpolated_data_y.to_numpy())\n",
    "print(gpc.kernel_, ' : ', gpc.log_marginal_likelihood())"
   ]
  },
  {
   "cell_type": "markdown",
   "metadata": {},
   "source": [
    "### Hyperparameter Tuning"
   ]
  },
  {
   "cell_type": "code",
   "execution_count": 7,
   "metadata": {},
   "outputs": [],
   "source": [
    "kernels = [RBF(),\n",
    "           Matern(nu=0.5),\n",
    "           Matern(nu=1.5),\n",
    "           Matern(nu=2.5),\n",
    "           RationalQuadratic(),\n",
    "           ExpSineSquared(),\n",
    "           DotProduct() + WhiteKernel()]"
   ]
  },
  {
   "cell_type": "code",
   "execution_count": 12,
   "metadata": {},
   "outputs": [
    {
     "name": "stdout",
     "output_type": "stream",
     "text": [
      "RBF(length_scale=0.0224)  :  -230199.7803302184\n"
     ]
    },
    {
     "name": "stderr",
     "output_type": "stream",
     "text": [
      "/Users/santiago/opt/anaconda3/lib/python3.8/site-packages/sklearn/gaussian_process/kernels.py:1623: RuntimeWarning: invalid value encountered in true_divide\n",
      "  K_gradient = K[..., np.newaxis] * D \\\n"
     ]
    },
    {
     "name": "stdout",
     "output_type": "stream",
     "text": [
      "Matern(length_scale=0.0402, nu=0.5)  :  -147630.3189565221\n",
      "Matern(length_scale=0.0297, nu=1.5)  :  -174273.92580377776\n",
      "Matern(length_scale=0.0269, nu=2.5)  :  -188743.0522545688\n",
      "RationalQuadratic(alpha=0.528, length_scale=0.0119)  :  -120489.31124962137\n",
      "ExpSineSquared(length_scale=0.00612, periodicity=23)  :  -230197.91099507353\n",
      "DotProduct(sigma_0=18.2) + WhiteKernel(noise_level=223)  :  -10346.768229266689\n"
     ]
    }
   ],
   "source": [
    "for kernel in kernels:\n",
    "    gpc = GaussianProcessRegressor(kernel=kernel, \n",
    "                                   random_state=0, \n",
    "                                   n_restarts_optimizer=100,\n",
    "                                   alpha = 0.1).fit(coor, interpolated_data_y.to_numpy())\n",
    "    print(gpc.kernel_, ' : ', gpc.log_marginal_likelihood())"
   ]
  },
  {
   "cell_type": "code",
   "execution_count": 144,
   "metadata": {},
   "outputs": [
    {
     "data": {
      "text/plain": [
       "1.668391193947079"
      ]
     },
     "execution_count": 144,
     "metadata": {},
     "output_type": "execute_result"
    }
   ],
   "source": [
    "norm.ppf(20/21)"
   ]
  }
 ],
 "metadata": {
  "kernelspec": {
   "display_name": "Python 3",
   "language": "python",
   "name": "python3"
  },
  "language_info": {
   "codemirror_mode": {
    "name": "ipython",
    "version": 3
   },
   "file_extension": ".py",
   "mimetype": "text/x-python",
   "name": "python",
   "nbconvert_exporter": "python",
   "pygments_lexer": "ipython3",
   "version": "3.8.3"
  }
 },
 "nbformat": 4,
 "nbformat_minor": 4
}
