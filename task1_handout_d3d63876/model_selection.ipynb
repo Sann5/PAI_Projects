{
 "cells": [
  {
   "cell_type": "markdown",
   "metadata": {},
   "source": [
    "# Model Selection"
   ]
  },
  {
   "cell_type": "markdown",
   "metadata": {},
   "source": [
    "### Import libreries"
   ]
  },
  {
   "cell_type": "code",
   "execution_count": 23,
   "metadata": {},
   "outputs": [],
   "source": [
    "import os\n",
    "import typing\n",
    "\n",
    "import sklearn.gaussian_process.kernels \n",
    "from sklearn.kernel_approximation import Nystroem\n",
    "from sklearn.gaussian_process import GaussianProcessRegressor\n",
    "from sklearn.model_selection import cross_val_score\n",
    "from sklearn.model_selection import KFold\n",
    "import matplotlib.pyplot as plt\n",
    "from scipy.interpolate import griddata\n",
    "from matplotlib import cm\n",
    "import numpy as np\n",
    "import pandas as pd\n",
    "import time"
   ]
  },
  {
   "cell_type": "markdown",
   "metadata": {},
   "source": [
    "### Read data"
   ]
  },
  {
   "cell_type": "code",
   "execution_count": 3,
   "metadata": {},
   "outputs": [],
   "source": [
    "X = pd.read_csv(\"./train_x.csv\").to_numpy()\n",
    "y = pd.read_csv(\"./train_y.csv\").to_numpy()"
   ]
  },
  {
   "cell_type": "code",
   "execution_count": 9,
   "metadata": {},
   "outputs": [],
   "source": [
    "grid_x, grid_y = np.mgrid[0:0.9988:50j, 0:0.9988:50j]"
   ]
  },
  {
   "cell_type": "code",
   "execution_count": 10,
   "metadata": {},
   "outputs": [],
   "source": [
    "grid_z0 = griddata(X, y, (grid_x, grid_y), method='nearest')\n",
    "interpolated_data_y = pd.DataFrame(grid_z0.ravel(), columns = ['pm25'])"
   ]
  },
  {
   "cell_type": "code",
   "execution_count": 11,
   "metadata": {},
   "outputs": [],
   "source": [
    "coor = np.array(list(zip(grid_x.ravel(), grid_y.ravel())))"
   ]
  },
  {
   "cell_type": "code",
   "execution_count": 12,
   "metadata": {},
   "outputs": [],
   "source": [
    "interpolated_data_X = pd.DataFrame(coor, columns = ['lon', 'lat'])"
   ]
  },
  {
   "cell_type": "code",
   "execution_count": 13,
   "metadata": {},
   "outputs": [],
   "source": [
    "interpolated_data_X.to_csv('interpolated_X_2500.csv', index=False)\n",
    "interpolated_data_y.to_csv('interpolated_y_2500.csv', index=False)"
   ]
  },
  {
   "cell_type": "markdown",
   "metadata": {},
   "source": [
    "### Toy example for RBF"
   ]
  },
  {
   "cell_type": "code",
   "execution_count": 14,
   "metadata": {},
   "outputs": [
    {
     "name": "stdout",
     "output_type": "stream",
     "text": [
      "75.33604407310486\n"
     ]
    }
   ],
   "source": [
    "kernel = RBF()\n",
    "start = time.time()\n",
    "gpc = GaussianProcessRegressor(kernel=kernel, \n",
    "                               random_state=0, \n",
    "                               n_restarts_optimizer=100).fit(coor, interpolated_data_y.to_numpy())\n",
    "print(gpc.kernel_)\n",
    "print(gpc.log_marginal_likelihood()"
   ]
  },
  {
   "cell_type": "code",
   "execution_count": 25,
   "metadata": {
    "scrolled": true
   },
   "outputs": [
    {
     "name": "stdout",
     "output_type": "stream",
     "text": [
      "RBF(length_scale=0.0168)\n",
      "-305565.38943646516\n"
     ]
    },
    {
     "name": "stderr",
     "output_type": "stream",
     "text": [
      "/Users/santiago/opt/anaconda3/lib/python3.8/site-packages/sklearn/gaussian_process/kernels.py:1623: RuntimeWarning: invalid value encountered in true_divide\n",
      "  K_gradient = K[..., np.newaxis] * D \\\n"
     ]
    },
    {
     "name": "stdout",
     "output_type": "stream",
     "text": [
      "Matern(length_scale=0.036, nu=0.5)\n",
      "-165616.9917406278\n",
      "Matern(length_scale=0.0253, nu=1.5)\n",
      "-205393.44635639447\n",
      "Matern(length_scale=0.0223, nu=2.5)\n",
      "-228279.36014855502\n",
      "RationalQuadratic(alpha=0.522, length_scale=0.0106)\n",
      "-131886.14096834682\n",
      "ExpSineSquared(length_scale=0.000532, periodicity=198)\n",
      "-305565.3582388254\n",
      "DotProduct(sigma_0=18.2) + WhiteKernel(noise_level=223)\n",
      "-10346.768229266692\n"
     ]
    }
   ],
   "source": [
    "kernel = RBF()\n",
    "gpc = GaussianProcessRegressor(kernel=kernel, \n",
    "                               random_state=0, \n",
    "                               n_restarts_optimizer=100).fit(coor, interpolated_data_y.to_numpy())\n",
    "print(gpc.kernel_)\n",
    "print(gpc.log_marginal_likelihood())\n",
    "\n",
    "kernel = Matern(nu=0.5)\n",
    "gpc = GaussianProcessRegressor(kernel=kernel, \n",
    "                               random_state=0, \n",
    "                               n_restarts_optimizer=100).fit(coor, interpolated_data_y.to_numpy())\n",
    "print(gpc.kernel_)\n",
    "print(gpc.log_marginal_likelihood())\n",
    "      \n",
    "kernel = Matern(nu=1.5)\n",
    "gpc = GaussianProcessRegressor(kernel=kernel, \n",
    "                               random_state=0, \n",
    "                               n_restarts_optimizer=100).fit(coor, interpolated_data_y.to_numpy())\n",
    "print(gpc.kernel_)\n",
    "print(gpc.log_marginal_likelihood())\n",
    "\n",
    "kernel = Matern(nu=2.5)\n",
    "gpc = GaussianProcessRegressor(kernel=kernel, \n",
    "                               random_state=0, \n",
    "                               n_restarts_optimizer=100).fit(coor, interpolated_data_y.to_numpy())\n",
    "print(gpc.kernel_)\n",
    "print(gpc.log_marginal_likelihood())\n",
    "\n",
    "kernel = RationalQuadratic()\n",
    "gpc = GaussianProcessRegressor(kernel=kernel, \n",
    "                               random_state=0, \n",
    "                               n_restarts_optimizer=100).fit(coor, interpolated_data_y.to_numpy())\n",
    "print(gpc.kernel_)\n",
    "print(gpc.log_marginal_likelihood())\n",
    "\n",
    "kernel = ExpSineSquared()\n",
    "gpc = GaussianProcessRegressor(kernel=kernel, \n",
    "                               random_state=0, \n",
    "                               n_restarts_optimizer=100).fit(coor, interpolated_data_y.to_numpy())\n",
    "print(gpc.kernel_)\n",
    "print(gpc.log_marginal_likelihood())\n",
    "\n",
    "kernel = DotProduct() + WhiteKernel()\n",
    "gpc = GaussianProcessRegressor(kernel=kernel, \n",
    "                               random_state=0, \n",
    "                               n_restarts_optimizer=100).fit(coor, interpolated_data_y.to_numpy())\n",
    "print(gpc.kernel_)\n",
    "print(gpc.log_marginal_likelihood())"
   ]
  },
  {
   "cell_type": "code",
   "execution_count": null,
   "metadata": {},
   "outputs": [],
   "source": [
    "kernel = DotProduct(sigma_0=18.2) + WhiteKernel(noise_level=223)\n",
    "gpc = GaussianProcessRegressor(kernel=kernel, \n",
    "                               random_state=0).fit(X, y)\n",
    "print(gpc.kernel_)\n",
    "print(gpc.log_marginal_likelihood())"
   ]
  }
 ],
 "metadata": {
  "kernelspec": {
   "display_name": "Python 3",
   "language": "python",
   "name": "python3"
  },
  "language_info": {
   "codemirror_mode": {
    "name": "ipython",
    "version": 3
   },
   "file_extension": ".py",
   "mimetype": "text/x-python",
   "name": "python",
   "nbconvert_exporter": "python",
   "pygments_lexer": "ipython3",
   "version": "3.8.3"
  }
 },
 "nbformat": 4,
 "nbformat_minor": 4
}
